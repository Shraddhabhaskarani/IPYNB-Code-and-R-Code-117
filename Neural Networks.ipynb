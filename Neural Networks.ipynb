{
  "nbformat": 4,
  "nbformat_minor": 0,
  "metadata": {
    "colab": {
      "provenance": [],
      "authorship_tag": "ABX9TyO9XPVIEBV/wdnc9xQpqwMX",
      "include_colab_link": true
    },
    "kernelspec": {
      "name": "python3",
      "display_name": "Python 3"
    },
    "language_info": {
      "name": "python"
    }
  },
  "cells": [
    {
      "cell_type": "markdown",
      "metadata": {
        "id": "view-in-github",
        "colab_type": "text"
      },
      "source": [
        "<a href=\"https://colab.research.google.com/github/Shraddhabhaskarani/IPYNB-Code-and-R-Code-117/blob/main/Neural%20Networks.ipynb\" target=\"_parent\"><img src=\"https://colab.research.google.com/assets/colab-badge.svg\" alt=\"Open In Colab\"/></a>"
      ]
    },
    {
      "cell_type": "code",
      "execution_count": 1,
      "metadata": {
        "colab": {
          "base_uri": "https://localhost:8080/"
        },
        "id": "RhCbGO8EaMsh",
        "outputId": "f0d715c7-2f55-4a00-fb4f-95a5e52be1dc"
      },
      "outputs": [
        {
          "output_type": "stream",
          "name": "stdout",
          "text": [
            "Different predictions: [0.0, 0.0, 0.0, 0.9755663871765137, 0.0, 0.0, 0.0, 0.9755663871765137, 0.0, 0.9755663871765137]\n",
            "Mean prediction: 0.2926699161529541\n",
            "Uncertainty (std): 0.447060681469097\n"
          ]
        }
      ],
      "source": [
        "\n",
        "import torch\n",
        "import torch.nn as nn\n",
        "import numpy as np\n",
        "\n",
        "# Simple Bayesian-like model with dropout\n",
        "class SimpleBNN(nn.Module):\n",
        "    def __init__(self):\n",
        "        super().__init__()\n",
        "        self.layer = nn.Linear(1, 1)\n",
        "        self.dropout = nn.Dropout(p=0.5)\n",
        "\n",
        "    def forward(self, x):\n",
        "        x = self.layer(x)\n",
        "        return self.dropout(x)\n",
        "\n",
        "# Create model\n",
        "model = SimpleBNN()\n",
        "\n",
        "# Dummy input\n",
        "x = torch.tensor([[1.0]])\n",
        "\n",
        "# Predict multiple times with dropout ON\n",
        "model.train()  # keep dropout active\n",
        "predictions = [model(x).item() for _ in range(10)]\n",
        "\n",
        "print(\"Different predictions:\", predictions)\n",
        "print(\"Mean prediction:\", np.mean(predictions))\n",
        "print(\"Uncertainty (std):\", np.std(predictions))"
      ]
    },
    {
      "cell_type": "code",
      "source": [],
      "metadata": {
        "id": "dpE_1KaeaR0I"
      },
      "execution_count": null,
      "outputs": []
    }
  ]
}